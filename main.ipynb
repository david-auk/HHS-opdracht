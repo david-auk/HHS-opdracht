{
 "cells": [
  {
   "cell_type": "markdown",
   "source": [
    "# HHS python opdracht\n",
    "\n",
    "### Known issues\n",
    " - Issue: import _tkinter error\n",
    "   - Fix: `brew install python-tk`\n",
    "\n",
    "## Uitwerking code.\n",
    "Dit project is ondeverdeeld in verschillende bestanden dit is de vertakking:\n",
    "\n",
    " - **main.ipynb** (Dit jupiternotebook)\n",
    "   - **artikel.py**\n",
    "     - **classes.py**\n",
    "       - **data/artikelData.csv** (locatie gedefineerd in **artikel.py**)\n",
    "   - **klant.py**\n",
    "     - **classes.py**\n",
    "       - **data/klantData.csv** (locatie gedefineerd in **klant.py**)\n",
    "   - **huurovereenkomst.py**\n",
    "     - **classes.py**\n",
    "       - **data/huurovereenkomstData.csv** (locatie gedefineerd in **huurovereenkomst.py**)\n",
    "   - **medewerker.py**\n",
    "     - **classes.py**\n",
    "       - **data/medewerkerData.csv** (locatie gedefineerd in **medewerker.py**)\n",
    "\n",
    "Zoals je kan zien is deze code erg modular, functies worden hergebruikt.\n",
    "Hierdoor was ik in staat om alle vier de overzichten te maken.\n",
    "\n",
    "Voor verdere verduidelijking over de code kun je in classes.py kijken waar ook inline gedocumenteerd is.\n",
    "Ik ben zelf erg tevreden met mijn code voor dit project\n",
    "\n",
    "Voor meer details over versioning, history en mijn werkwijzen nodig ik je uit om naar mijn [GitHub Project](https://github.com/david-auk/HHS-opdracht/) te gaan\n",
    "Veel kijkplezier!\n"
   ],
   "metadata": {
    "collapsed": false
   },
   "id": "60ebdbafba8c5376"
  },
  {
   "cell_type": "code",
   "execution_count": 1,
   "id": "initial_id",
   "metadata": {
    "collapsed": true,
    "ExecuteTime": {
     "end_time": "2023-11-24T06:16:59.411311Z",
     "start_time": "2023-11-24T06:16:52.241633Z"
    }
   },
   "outputs": [
    {
     "data": {
      "text/plain": "<module 'artikel' from '/Users/david/git/hub/HHS-opdracht/artikel.py'>"
     },
     "execution_count": 1,
     "metadata": {},
     "output_type": "execute_result"
    }
   ],
   "source": [
    "import importlib\n",
    "\n",
    "# Defining the dashboards in a modular way\n",
    "dashboards = ['artikel', 'klant', 'huurovereenkomst', 'medewerker']\n",
    "\n",
    "# List all dashboards\n",
    "formatted_strings = [f\"{index + 1}: {dashboard.capitalize()}\" for index, dashboard in enumerate(dashboards)]\n",
    "result_string = '\\n'.join(formatted_strings)\n",
    "\n",
    "# Get the user selected dashboard\n",
    "selectedNum = int(input(result_string))\n",
    "selectedDashboard = dashboards[selectedNum - 1]\n",
    "\n",
    "# Open the dashboard\n",
    "importlib.import_module(selectedDashboard)"
   ]
  },
  {
   "cell_type": "code",
   "execution_count": null,
   "outputs": [],
   "source": [],
   "metadata": {
    "collapsed": false,
    "ExecuteTime": {
     "start_time": "2023-11-24T06:08:23.785574Z"
    }
   },
   "id": "95bdc8eecd9ff04b"
  }
 ],
 "metadata": {
  "kernelspec": {
   "display_name": "Python 3",
   "language": "python",
   "name": "python3"
  },
  "language_info": {
   "codemirror_mode": {
    "name": "ipython",
    "version": 2
   },
   "file_extension": ".py",
   "mimetype": "text/x-python",
   "name": "python",
   "nbconvert_exporter": "python",
   "pygments_lexer": "ipython2",
   "version": "2.7.6"
  }
 },
 "nbformat": 4,
 "nbformat_minor": 5
}
