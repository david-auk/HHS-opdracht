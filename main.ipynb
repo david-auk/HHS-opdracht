{
 "cells": [
  {
   "cell_type": "markdown",
   "source": [
    "# HHS python opdracht\n",
    "\n",
    "Als het command hieronder niet lukt, run dan: `brew install python-tk`\n",
    "Dit is een pycharm issue"
   ],
   "metadata": {
    "collapsed": false
   },
   "id": "60ebdbafba8c5376"
  },
  {
   "cell_type": "code",
   "execution_count": 2,
   "id": "initial_id",
   "metadata": {
    "collapsed": true,
    "ExecuteTime": {
     "end_time": "2023-11-24T06:12:24.083871Z",
     "start_time": "2023-11-24T06:08:54.379337Z"
    }
   },
   "outputs": [
    {
     "data": {
      "text/plain": "<module 'huurovereenkomst' from '/Users/david/git/hub/HHS-opdracht/huurovereenkomst.py'>"
     },
     "execution_count": 2,
     "metadata": {},
     "output_type": "execute_result"
    }
   ],
   "source": [
    "import importlib\n",
    "\n",
    "# Defining the dashboards in a modular way\n",
    "dashboards = ['artikel', 'klant', 'huurovereenkomst', 'medewerker']\n",
    "\n",
    "# List all dashboards\n",
    "formatted_strings = [f\"{index + 1}: {dashboard.capitalize()}\" for index, dashboard in enumerate(dashboards)]\n",
    "result_string = '\\n'.join(formatted_strings)\n",
    "\n",
    "# Get the user selected dashboard\n",
    "selectedNum = int(input(result_string))\n",
    "selectedDashboard = dashboards[selectedNum - 1]\n",
    "\n",
    "# Open the dashboard\n",
    "importlib.import_module(selectedDashboard)"
   ]
  },
  {
   "cell_type": "code",
   "execution_count": null,
   "outputs": [],
   "source": [],
   "metadata": {
    "collapsed": false,
    "ExecuteTime": {
     "start_time": "2023-11-24T06:08:23.785574Z"
    }
   },
   "id": "95bdc8eecd9ff04b"
  }
 ],
 "metadata": {
  "kernelspec": {
   "display_name": "Python 3",
   "language": "python",
   "name": "python3"
  },
  "language_info": {
   "codemirror_mode": {
    "name": "ipython",
    "version": 2
   },
   "file_extension": ".py",
   "mimetype": "text/x-python",
   "name": "python",
   "nbconvert_exporter": "python",
   "pygments_lexer": "ipython2",
   "version": "2.7.6"
  }
 },
 "nbformat": 4,
 "nbformat_minor": 5
}
